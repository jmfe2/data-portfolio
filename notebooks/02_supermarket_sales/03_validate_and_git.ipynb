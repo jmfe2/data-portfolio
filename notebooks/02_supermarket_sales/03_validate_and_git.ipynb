{
 "cells": [
  {
   "cell_type": "markdown",
   "id": "b8123096",
   "metadata": {},
   "source": [
    "# Data Validation in PostgreSQL\n",
    "\n",
    "This notebook validates that the data loaded from `supermarket_sales.csv` was correctly inserted into the PostgreSQL database.\n",
    "\n",
    "We will use SQL queries via `sqlalchemy` and `pandas` to verify data integrity.\n",
    "\n"
   ]
  },
  {
   "cell_type": "code",
   "execution_count": null,
   "id": "5d305bb7",
   "metadata": {},
   "outputs": [],
   "source": [
    "# Import libraries\n",
    "\n",
    "import os\n",
    "from dotenv import load_dotenv\n",
    "from sqlalchemy import create_engine\n",
    "import pandas as pd"
   ]
  },
  {
   "cell_type": "code",
   "execution_count": null,
   "id": "a06619c5",
   "metadata": {},
   "outputs": [],
   "source": [
    "# Load environment variables\n",
    "load_dotenv()\n",
    "\n",
    "# Retrieve credentials securely\n",
    "DB_USER = os.getenv(\"DB_USER\")\n",
    "DB_PASS = os.getenv(\"DB_PASS\")\n",
    "DB_HOST = os.getenv(\"DB_HOST\")\n",
    "DB_PORT = os.getenv(\"DB_PORT\")\n",
    "DB_NAME = os.getenv(\"DB_NAME\")\n",
    "\n",
    "# Connect to PostgreSQL\n",
    "\n",
    "\n",
    "engine = create_engine(\n",
    "    f\"postgresql+psycopg2://{DB_USER}:{DB_PASS}@{DB_HOST}:{DB_PORT}/{DB_NAME}\"\n",
    ")\n"
   ]
  },
  {
   "cell_type": "code",
   "execution_count": null,
   "id": "96d293e3",
   "metadata": {},
   "outputs": [
    {
     "name": "stdout",
     "output_type": "stream",
     "text": [
      "\n",
      "Total rows:\n",
      "    count\n",
      "0   1000\n",
      "\n",
      "Average total sales:\n",
      "           avg\n",
      "0  322.966749\n",
      "\n",
      "Null values in total:\n",
      "    count\n",
      "0      0\n",
      "\n",
      "Null values in product line:\n",
      "    count\n",
      "0      0\n",
      "\n",
      "Null values in city:\n",
      "    count\n",
      "0      0\n",
      "\n",
      "Null values in customer type:\n",
      "    count\n",
      "0      0\n",
      "\n",
      "Unique products sold:\n",
      "    count\n",
      "0      6\n"
     ]
    }
   ],
   "source": [
    "# Validation queries\n",
    "queries = {\n",
    "    \"Total rows\": \"SELECT COUNT(*) FROM supermarket_sales;\",\n",
    "    \"Average total sales\": \"SELECT AVG(total) FROM supermarket_sales;\",\n",
    "    \"Null values in total\": \"SELECT COUNT(*) FROM supermarket_sales WHERE total IS NULL;\",\n",
    "    \"Null values in product line\": \"SELECT COUNT(*) FROM supermarket_sales WHERE product_line IS NULL;\",\n",
    "    \"Null values in city\": \"SELECT COUNT(*) FROM supermarket_sales WHERE city IS NULL;\",\n",
    "    \"Null values in customer type\": \"SELECT COUNT(*) FROM supermarket_sales WHERE customer_type IS NULL;\",\n",
    "    \"Unique products sold\": \"SELECT COUNT(DISTINCT product_line) FROM supermarket_sales;\",\n",
    "}\n",
    "\n",
    "# Execute and display results\n",
    "for description, query in queries.items():\n",
    "    df = pd.read_sql(query, engine)\n",
    "    print(f\"\\n{description}:\\n\", df)"
   ]
  },
  {
   "cell_type": "markdown",
   "id": "d6047c3e",
   "metadata": {},
   "source": [
    "## Validation Checklist\n",
    "\n",
    "- [1000] The total number of rows matches the CSV (should be 1000).\n",
    "- [322.96] Average values look consistent with expectations.\n",
    "- [NoNull] No null values in key columns (`total`, `city`, `product_line`, etc.).\n",
    "- [6] The number of unique product lines matches the dataset.\n"
   ]
  },
  {
   "cell_type": "markdown",
   "id": "dbf6b499",
   "metadata": {},
   "source": [
    "## Observations\n",
    "\n",
    "Insights based on the queries above:\n",
    "\n",
    "* 1) Row count matches the CSV file.\n",
    "* 2) Average total sales matches the CVS file. \n",
    "* 2) No nulls found – data looks clean.\n",
    "* 3) Line products matches the CSV file. \n"
   ]
  },
  {
   "cell_type": "markdown",
   "id": "2430edba",
   "metadata": {},
   "source": [
    "### Git Tracking\n",
    "\n",
    "Steps followed to commit this notebook:\n",
    "\n",
    "```bash\n",
    "git checkout -b validation-checks\n",
    "git add 03_validate_and_git.ipynb\n",
    "git commit -m \"Added data validation notebook for supermarket sales\"\n",
    "git push origin validation-checks\n"
   ]
  }
 ],
 "metadata": {
  "kernelspec": {
   "display_name": "Python 3",
   "language": "python",
   "name": "python3"
  },
  "language_info": {
   "codemirror_mode": {
    "name": "ipython",
    "version": 3
   },
   "file_extension": ".py",
   "mimetype": "text/x-python",
   "name": "python",
   "nbconvert_exporter": "python",
   "pygments_lexer": "ipython3",
   "version": "3.13.3"
  }
 },
 "nbformat": 4,
 "nbformat_minor": 5
}

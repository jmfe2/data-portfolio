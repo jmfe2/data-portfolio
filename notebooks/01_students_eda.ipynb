{
 "cells": [
  {
   "cell_type": "code",
   "execution_count": null,
   "id": "18050f3a",
   "metadata": {},
   "outputs": [],
   "source": [
    "# 📊 Student Performance EDA\n",
    "\n",
    "# Author: Juan Martin Flores\n",
    "\n",
    "# Date: YYYY-MM-DD\n",
    "\n",
    "# Description: First exploratory data analysis using pandas\n",
    "\n",
    "\n",
    "\n",
    "import pandas as pd\n",
    "import matplotlib.pyplot as plt\n",
    "\n",
    "\n",
    "\n",
    "# Load dataset\n",
    "\n",
    "df = pd.read_csv('/Users/jmfe2/VSC/data-portfolio/data/studentsperformance.csv')\n",
    "\n",
    "\n",
    "\n",
    "# Basic checks\n",
    "\n",
    "df.head()\n",
    "\n",
    "df.info()\n",
    "\n",
    "df.describe()\n",
    "\n",
    "df.isnull().sum()\n",
    "\n",
    "\n",
    "\n",
    "\n",
    "df[['math score', 'reading score', 'writing score']].hist(figsize=(10, 5))\n",
    "\n",
    "plt.savefig('/Users/jmfe2/VSC/data-portfolio/outputs/figures/01_students_eda/scores_histogram.png') # Save the histogram plot in Images folde\n",
    "\n",
    "plt.show() # Para mostrar el gráfico en el notebook"
   ]
  },
  {
   "cell_type": "code",
   "execution_count": null,
   "id": "62e2e23b",
   "metadata": {},
   "outputs": [],
   "source": [
    "plt.show()"
   ]
  },
  {
   "cell_type": "code",
   "execution_count": null,
   "id": "38eda49f",
   "metadata": {},
   "outputs": [],
   "source": [
    "#Review the distribution of scores"
   ]
  }
 ],
 "metadata": {
  "kernelspec": {
   "display_name": "Python 3",
   "language": "python",
   "name": "python3"
  },
  "language_info": {
   "codemirror_mode": {
    "name": "ipython",
    "version": 3
   },
   "file_extension": ".py",
   "mimetype": "text/x-python",
   "name": "python",
   "nbconvert_exporter": "python",
   "pygments_lexer": "ipython3",
   "version": "3.13.3"
  }
 },
 "nbformat": 4,
 "nbformat_minor": 5
}

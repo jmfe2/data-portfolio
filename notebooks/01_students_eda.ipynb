{
 "cells": [
  {
   "cell_type": "markdown",
   "id": "18050f3a",
   "metadata": {},
   "source": [
    "## 📘 Project Title: EDA Students\n",
    "\n",
    "**Author:** Juan Martín Flores  \n",
    "**Date:** 2025-06-04\n",
    "**Description:** This notebook performs an exploratory data analysis (EDA) on the Students Performance dataset from Kaggle\") in order to To understand the influence of the parents background, test preparation and other variables available on students performance.\n",
    "**Tools:** Python (Pandas, Matplotlib, Seaborn), Google Colab / Jupyter  \n",
    "\n",
    "---\n",
    "\n",
    "### 📂 Dataset Info\n",
    "\n",
    "- **Name:** students-performance.csv\n",
    "- **Location:** ../data/students-performance.csv\n",
    "- **Source:** [Kaggle / https://www.kaggle.com/datasets/spscientist/students-performance-in-exams]  \n",
    "\n",
    "---\n",
    "\n",
    "### 📈 Objective\n",
    "\n",
    "- Have an understanding about a basic Exploratory Data Analysis process. \n",
    "- Perform EDA suggested steps on this data to obtain inshits on this data:\n",
    "    - Understand the problem\n",
    "    - Import & inspect data\n",
    "    - Handling Missing values\n",
    "    - Explore Data Characteristics\n",
    "    - Perform Data Transformation\n",
    "    - Visualize Data Relationships \n",
    "    - Handling Outliers\n",
    "    - Communicate findings & insights. \n",
    "---"
   ]
  },
  {
   "cell_type": "markdown",
   "id": "cd5692df",
   "metadata": {},
   "source": [
    "#### Understand the problem and the Data\n",
    "\n",
    "We have data about score performance in students and we are try to understand the influence of the parents background, test preparation etc on students performance, as a way to practice EDA for this notebook. \n",
    "\n",
    "Source: Kaggle / https://www.kaggle.com/datasets/spscientist/students-performance-in-exams\n",
    "\n",
    "According to information provided by the webpage:\n",
    "- Data is structure and in csv\n",
    "- 100% of the data is valid, this means no mismatched or missing values. \n",
    "- Scores values follow a \"normal\" distribution. \n",
    "- 1 file, 8 columns"
   ]
  },
  {
   "cell_type": "markdown",
   "id": "2b867bfe",
   "metadata": {},
   "source": [
    "#### Import & Inspect Data"
   ]
  },
  {
   "cell_type": "code",
   "execution_count": 52,
   "id": "7b081886",
   "metadata": {},
   "outputs": [],
   "source": [
    "# import necessary libraries\n",
    "import pandas as pd\n",
    "import numpy as np\n",
    "import matplotlib.pyplot as plt\n",
    "import seaborn as sns"
   ]
  },
  {
   "cell_type": "code",
   "execution_count": 53,
   "id": "23753416",
   "metadata": {},
   "outputs": [],
   "source": [
    "# Load dataset\n",
    "df = pd.read_csv(\"/Users/jmfe2/VSC/data-portfolio/data/studentsperformance.csv\")"
   ]
  },
  {
   "cell_type": "code",
   "execution_count": 42,
   "id": "920f8358",
   "metadata": {},
   "outputs": [
    {
     "data": {
      "text/plain": [
       "(1000, 8)"
      ]
     },
     "execution_count": 42,
     "metadata": {},
     "output_type": "execute_result"
    }
   ],
   "source": [
    "df.shape  # (rowrs, columns)"
   ]
  },
  {
   "cell_type": "code",
   "execution_count": 44,
   "id": "33ecfd36",
   "metadata": {},
   "outputs": [
    {
     "data": {
      "text/plain": [
       "Index(['gender', 'race/ethnicity', 'parental level of education', 'lunch',\n",
       "       'test preparation course', 'math score', 'reading score',\n",
       "       'writing score'],\n",
       "      dtype='object')"
      ]
     },
     "execution_count": 44,
     "metadata": {},
     "output_type": "execute_result"
    }
   ],
   "source": [
    "df.columns  #"
   ]
  },
  {
   "cell_type": "code",
   "execution_count": 45,
   "id": "8f104774",
   "metadata": {},
   "outputs": [
    {
     "name": "stdout",
     "output_type": "stream",
     "text": [
      "<class 'pandas.core.frame.DataFrame'>\n",
      "RangeIndex: 1000 entries, 0 to 999\n",
      "Data columns (total 8 columns):\n",
      " #   Column                       Non-Null Count  Dtype \n",
      "---  ------                       --------------  ----- \n",
      " 0   gender                       1000 non-null   object\n",
      " 1   race/ethnicity               1000 non-null   object\n",
      " 2   parental level of education  1000 non-null   object\n",
      " 3   lunch                        1000 non-null   object\n",
      " 4   test preparation course      1000 non-null   object\n",
      " 5   math score                   1000 non-null   int64 \n",
      " 6   reading score                1000 non-null   int64 \n",
      " 7   writing score                1000 non-null   int64 \n",
      "dtypes: int64(3), object(5)\n",
      "memory usage: 62.6+ KB\n"
     ]
    }
   ],
   "source": [
    "df.info()"
   ]
  },
  {
   "cell_type": "code",
   "execution_count": 54,
   "id": "c7f3fc3c",
   "metadata": {},
   "outputs": [
    {
     "data": {
      "text/plain": [
       "gender                          2\n",
       "race/ethnicity                  5\n",
       "parental level of education     6\n",
       "lunch                           2\n",
       "test preparation course         2\n",
       "math score                     81\n",
       "reading score                  72\n",
       "writing score                  77\n",
       "dtype: int64"
      ]
     },
     "execution_count": 54,
     "metadata": {},
     "output_type": "execute_result"
    }
   ],
   "source": [
    "df.nunique()"
   ]
  },
  {
   "cell_type": "code",
   "execution_count": 43,
   "id": "23c9ca35",
   "metadata": {},
   "outputs": [
    {
     "data": {
      "text/html": [
       "<div>\n",
       "<style scoped>\n",
       "    .dataframe tbody tr th:only-of-type {\n",
       "        vertical-align: middle;\n",
       "    }\n",
       "\n",
       "    .dataframe tbody tr th {\n",
       "        vertical-align: top;\n",
       "    }\n",
       "\n",
       "    .dataframe thead th {\n",
       "        text-align: right;\n",
       "    }\n",
       "</style>\n",
       "<table border=\"1\" class=\"dataframe\">\n",
       "  <thead>\n",
       "    <tr style=\"text-align: right;\">\n",
       "      <th></th>\n",
       "      <th>gender</th>\n",
       "      <th>race/ethnicity</th>\n",
       "      <th>parental level of education</th>\n",
       "      <th>lunch</th>\n",
       "      <th>test preparation course</th>\n",
       "      <th>math score</th>\n",
       "      <th>reading score</th>\n",
       "      <th>writing score</th>\n",
       "    </tr>\n",
       "  </thead>\n",
       "  <tbody>\n",
       "    <tr>\n",
       "      <th>0</th>\n",
       "      <td>female</td>\n",
       "      <td>group B</td>\n",
       "      <td>bachelor's degree</td>\n",
       "      <td>standard</td>\n",
       "      <td>none</td>\n",
       "      <td>72</td>\n",
       "      <td>72</td>\n",
       "      <td>74</td>\n",
       "    </tr>\n",
       "    <tr>\n",
       "      <th>1</th>\n",
       "      <td>female</td>\n",
       "      <td>group C</td>\n",
       "      <td>some college</td>\n",
       "      <td>standard</td>\n",
       "      <td>completed</td>\n",
       "      <td>69</td>\n",
       "      <td>90</td>\n",
       "      <td>88</td>\n",
       "    </tr>\n",
       "    <tr>\n",
       "      <th>2</th>\n",
       "      <td>female</td>\n",
       "      <td>group B</td>\n",
       "      <td>master's degree</td>\n",
       "      <td>standard</td>\n",
       "      <td>none</td>\n",
       "      <td>90</td>\n",
       "      <td>95</td>\n",
       "      <td>93</td>\n",
       "    </tr>\n",
       "    <tr>\n",
       "      <th>3</th>\n",
       "      <td>male</td>\n",
       "      <td>group A</td>\n",
       "      <td>associate's degree</td>\n",
       "      <td>free/reduced</td>\n",
       "      <td>none</td>\n",
       "      <td>47</td>\n",
       "      <td>57</td>\n",
       "      <td>44</td>\n",
       "    </tr>\n",
       "    <tr>\n",
       "      <th>4</th>\n",
       "      <td>male</td>\n",
       "      <td>group C</td>\n",
       "      <td>some college</td>\n",
       "      <td>standard</td>\n",
       "      <td>none</td>\n",
       "      <td>76</td>\n",
       "      <td>78</td>\n",
       "      <td>75</td>\n",
       "    </tr>\n",
       "  </tbody>\n",
       "</table>\n",
       "</div>"
      ],
      "text/plain": [
       "   gender race/ethnicity parental level of education         lunch  \\\n",
       "0  female        group B           bachelor's degree      standard   \n",
       "1  female        group C                some college      standard   \n",
       "2  female        group B             master's degree      standard   \n",
       "3    male        group A          associate's degree  free/reduced   \n",
       "4    male        group C                some college      standard   \n",
       "\n",
       "  test preparation course  math score  reading score  writing score  \n",
       "0                    none          72             72             74  \n",
       "1               completed          69             90             88  \n",
       "2                    none          90             95             93  \n",
       "3                    none          47             57             44  \n",
       "4                    none          76             78             75  "
      ]
     },
     "execution_count": 43,
     "metadata": {},
     "output_type": "execute_result"
    }
   ],
   "source": [
    "# Basic checks\n",
    "df.head()"
   ]
  },
  {
   "cell_type": "code",
   "execution_count": 46,
   "id": "e6342363",
   "metadata": {},
   "outputs": [
    {
     "data": {
      "text/html": [
       "<div>\n",
       "<style scoped>\n",
       "    .dataframe tbody tr th:only-of-type {\n",
       "        vertical-align: middle;\n",
       "    }\n",
       "\n",
       "    .dataframe tbody tr th {\n",
       "        vertical-align: top;\n",
       "    }\n",
       "\n",
       "    .dataframe thead th {\n",
       "        text-align: right;\n",
       "    }\n",
       "</style>\n",
       "<table border=\"1\" class=\"dataframe\">\n",
       "  <thead>\n",
       "    <tr style=\"text-align: right;\">\n",
       "      <th></th>\n",
       "      <th>math score</th>\n",
       "      <th>reading score</th>\n",
       "      <th>writing score</th>\n",
       "    </tr>\n",
       "  </thead>\n",
       "  <tbody>\n",
       "    <tr>\n",
       "      <th>count</th>\n",
       "      <td>1000.00000</td>\n",
       "      <td>1000.000000</td>\n",
       "      <td>1000.000000</td>\n",
       "    </tr>\n",
       "    <tr>\n",
       "      <th>mean</th>\n",
       "      <td>66.08900</td>\n",
       "      <td>69.169000</td>\n",
       "      <td>68.054000</td>\n",
       "    </tr>\n",
       "    <tr>\n",
       "      <th>std</th>\n",
       "      <td>15.16308</td>\n",
       "      <td>14.600192</td>\n",
       "      <td>15.195657</td>\n",
       "    </tr>\n",
       "    <tr>\n",
       "      <th>min</th>\n",
       "      <td>0.00000</td>\n",
       "      <td>17.000000</td>\n",
       "      <td>10.000000</td>\n",
       "    </tr>\n",
       "    <tr>\n",
       "      <th>25%</th>\n",
       "      <td>57.00000</td>\n",
       "      <td>59.000000</td>\n",
       "      <td>57.750000</td>\n",
       "    </tr>\n",
       "    <tr>\n",
       "      <th>50%</th>\n",
       "      <td>66.00000</td>\n",
       "      <td>70.000000</td>\n",
       "      <td>69.000000</td>\n",
       "    </tr>\n",
       "    <tr>\n",
       "      <th>75%</th>\n",
       "      <td>77.00000</td>\n",
       "      <td>79.000000</td>\n",
       "      <td>79.000000</td>\n",
       "    </tr>\n",
       "    <tr>\n",
       "      <th>max</th>\n",
       "      <td>100.00000</td>\n",
       "      <td>100.000000</td>\n",
       "      <td>100.000000</td>\n",
       "    </tr>\n",
       "  </tbody>\n",
       "</table>\n",
       "</div>"
      ],
      "text/plain": [
       "       math score  reading score  writing score\n",
       "count  1000.00000    1000.000000    1000.000000\n",
       "mean     66.08900      69.169000      68.054000\n",
       "std      15.16308      14.600192      15.195657\n",
       "min       0.00000      17.000000      10.000000\n",
       "25%      57.00000      59.000000      57.750000\n",
       "50%      66.00000      70.000000      69.000000\n",
       "75%      77.00000      79.000000      79.000000\n",
       "max     100.00000     100.000000     100.000000"
      ]
     },
     "execution_count": 46,
     "metadata": {},
     "output_type": "execute_result"
    }
   ],
   "source": [
    "df.describe()"
   ]
  },
  {
   "cell_type": "markdown",
   "id": "479986d5",
   "metadata": {},
   "source": [
    "#### Handinlg Missing Values"
   ]
  },
  {
   "cell_type": "code",
   "execution_count": null,
   "id": "9018c4b7",
   "metadata": {},
   "outputs": [
    {
     "data": {
      "text/plain": [
       "gender                         0\n",
       "race/ethnicity                 0\n",
       "parental level of education    0\n",
       "lunch                          0\n",
       "test preparation course        0\n",
       "math score                     0\n",
       "reading score                  0\n",
       "writing score                  0\n",
       "dtype: int64"
      ]
     },
     "execution_count": 55,
     "metadata": {},
     "output_type": "execute_result"
    }
   ],
   "source": [
    "df.isnull().sum()  # check for missing values\n",
    "# We have no missing values in this dataset"
   ]
  },
  {
   "cell_type": "markdown",
   "id": "02905053",
   "metadata": {},
   "source": [
    "### Exploratore Data Characteristics"
   ]
  },
  {
   "cell_type": "code",
   "execution_count": 48,
   "id": "edab4761",
   "metadata": {},
   "outputs": [
    {
     "data": {
      "image/png": "[encoded data removed]",
      "text/plain": [
       "<Figure size 1000x500 with 4 Axes>"
      ]
     },
     "metadata": {},
     "output_type": "display_data"
    }
   ],
   "source": [
    "# We can use a histogram to visualize the distribution of scores\n",
    "df[[\"math score\", \"reading score\", \"writing score\"]].hist(figsize=(10, 5))\n",
    "plt.savefig(\n",
    "    \"/Users/jmfe2/VSC/data-portfolio/figures/01_students_eda/scores_histogram.png\"\n",
    ")  # Save the histogram plot in Images folde\n",
    "\n",
    "plt.show()  # To Show the plot in the notebook"
   ]
  },
  {
   "cell_type": "code",
   "execution_count": null,
   "id": "640b9c5b",
   "metadata": {},
   "outputs": [
    {
     "data": {
      "text/plain": [
       "gender\n",
       "female    51.8\n",
       "male      48.2\n",
       "Name: proportion, dtype: float64"
      ]
     },
     "execution_count": 63,
     "metadata": {},
     "output_type": "execute_result"
    }
   ],
   "source": [
    "# Calculate gender distribution across the company\n",
    "gender_distribution = df[\"gender\"].value_counts(normalize=True) * 100\n",
    "gender_distribution"
   ]
  },
  {
   "cell_type": "code",
   "execution_count": null,
   "id": "26ee2885",
   "metadata": {},
   "outputs": [],
   "source": []
  },
  {
   "cell_type": "code",
   "execution_count": null,
   "id": "62fd24ba",
   "metadata": {},
   "outputs": [
    {
     "data": {
      "text/plain": [
       "race/ethnicity\n",
       "group C    31.9\n",
       "group D    26.2\n",
       "group B    19.0\n",
       "group E    14.0\n",
       "group A     8.9\n",
       "Name: proportion, dtype: float64"
      ]
     },
     "execution_count": 65,
     "metadata": {},
     "output_type": "execute_result"
    }
   ],
   "source": [
    "# calculate the ethnicity distribution across the company\n",
    "etnicity_distribution = df[\"race/ethnicity\"].value_counts(normalize=True) * 100\n",
    "etnicity_distribution"
   ]
  },
  {
   "cell_type": "code",
   "execution_count": null,
   "id": "5b646b6b",
   "metadata": {},
   "outputs": [
    {
     "data": {
      "text/plain": [
       "parental level of education\n",
       "some college          22.6\n",
       "associate's degree    22.2\n",
       "high school           19.6\n",
       "some high school      17.9\n",
       "bachelor's degree     11.8\n",
       "master's degree        5.9\n",
       "Name: proportion, dtype: float64"
      ]
     },
     "execution_count": 66,
     "metadata": {},
     "output_type": "execute_result"
    }
   ],
   "source": [
    "parental_distribution = (\n",
    "    df[\"parental level of education\"].value_counts(normalize=True) * 100\n",
    ")\n",
    "parental_distribution"
   ]
  },
  {
   "cell_type": "code",
   "execution_count": null,
   "id": "3f3b0d35",
   "metadata": {},
   "outputs": [
    {
     "data": {
      "text/plain": [
       "lunch\n",
       "standard        64.5\n",
       "free/reduced    35.5\n",
       "Name: proportion, dtype: float64"
      ]
     },
     "execution_count": 67,
     "metadata": {},
     "output_type": "execute_result"
    }
   ],
   "source": [
    "lunch_distribution = df[\"lunch\"].value_counts(normalize=True) * 100\n",
    "lunch_distribution"
   ]
  },
  {
   "cell_type": "code",
   "execution_count": null,
   "id": "5efdaaab",
   "metadata": {},
   "outputs": [
    {
     "data": {
      "text/plain": [
       "test preparation course\n",
       "none         64.2\n",
       "completed    35.8\n",
       "Name: proportion, dtype: float64"
      ]
     },
     "execution_count": 68,
     "metadata": {},
     "output_type": "execute_result"
    }
   ],
   "source": [
    "test_preparation_distribution = (\n",
    "    df[\"test preparation course\"].value_counts(normalize=True) * 100\n",
    ")\n",
    "test_preparation_distribution\n"
   ]
  },
  {
   "cell_type": "code",
   "execution_count": 101,
   "id": "0aed5a65",
   "metadata": {},
   "outputs": [
    {
     "data": {
      "image/png": "[encoded data removed]",
      "text/plain": [
       "<Figure size 900x600 with 1 Axes>"
      ]
     },
     "metadata": {},
     "output_type": "display_data"
    }
   ],
   "source": [
    "plt.figure(figsize=(9, 6))\n",
    "sns.set_style(\"whitegrid\")\n",
    "\n",
    "# Define properties for the mean marker\n",
    "# Key is to make the marker visible and distinct\n",
    "mean_props = {\n",
    "    \"marker\": \"o\",  # Use a diamond ('D') or other distinct marker like '^', 'o', 's'\n",
    "    \"markerfacecolor\": \"gold\",  # Bright color for the marker's face\n",
    "    \"markeredgecolor\": \"grey\",  # Black edge for contrast\n",
    "    \"markersize\": 8,  # Larger size for visibility\n",
    "    \"markeredgewidth\": 1.5,  # Thicker edge for the marker\n",
    "}\n",
    "\n",
    "sns.boxplot(\n",
    "    data=df,\n",
    "    x=\"gender\",\n",
    "    y=\"math score\",\n",
    "    hue=\"gender\",\n",
    "    palette=\"pastel\",  # Or 'viridis', 'plasma', 'cividis', 'RdBu', 'coolwarm' for diverging\n",
    "    linewidth=1.5,  # Thicker lines for boxes\n",
    "    width=0.6,  # Adjust box width\n",
    "    showmeans=True,  # Crucial: This must be True to display the mean marker\n",
    "    meanprops=mean_props,  # Apply the defined mean properties\n",
    "    fliersize=3,  # Size of outlier points\n",
    "    flierprops=dict(\n",
    "        marker=\"o\", markerfacecolor=\"darkred\", markeredgecolor=\"darkred\", alpha=0.3\n",
    "    ),  # Style outliers\n",
    ")\n",
    "sns.swarmplot(data=df, x=\"gender\", y=\"math score\", color=\"gray\", alpha=0.2, size=4)\n",
    "\n",
    "plt.title(\n",
    "    \"Distribution of Math Scores by Gender\",\n",
    "    fontsize=16,\n",
    "    fontweight=\"bold\",\n",
    "    color=\"darkslategray\",\n",
    ")\n",
    "plt.xlabel(\"Gender\", fontsize=12, color=\"darkslategray\")\n",
    "plt.ylabel(\"Math Score\", fontsize=12, color=\"darkslategray\")\n",
    "\n",
    "plt.xticks(fontsize=10)\n",
    "plt.yticks(fontsize=10)\n",
    "\n",
    "plt.grid(axis=\"y\", linestyle=\"--\", alpha=0.7)\n",
    "\n",
    "sns.despine(trim=True)\n",
    "\n",
    "plt.tight_layout()\n",
    "\n",
    "plt.savefig(\n",
    "    \"/Users/jmfe2/VSC/data-portfolio/figures/01_students_eda/boxplot_math_gender.png\"\n",
    ")  # asegúrate de estar en /notebooks/\n",
    "plt.show()"
   ]
  },
  {
   "cell_type": "code",
   "execution_count": null,
   "id": "b0a477cb",
   "metadata": {},
   "outputs": [],
   "source": []
  },
  {
   "cell_type": "code",
   "execution_count": null,
   "id": "e61df94d",
   "metadata": {},
   "outputs": [
    {
     "data": {
      "text/plain": [
       "<Axes: xlabel='gender'>"
      ]
     },
     "execution_count": 50,
     "metadata": {},
     "output_type": "execute_result"
    },
    {
     "data": {
      "image/png": "[encoded data removed]",
      "text/plain": [
       "<Figure size 640x480 with 1 Axes>"
      ]
     },
     "metadata": {},
     "output_type": "display_data"
    }
   ],
   "source": [
    "df[\"gender\"].value_counts().plot(kind=\"bar\", color=[\"blue\", \"pink\"])"
   ]
  },
  {
   "cell_type": "code",
   "execution_count": null,
   "id": "0ab78f3a",
   "metadata": {},
   "outputs": [],
   "source": []
  }
 ],
 "metadata": {
  "kernelspec": {
   "display_name": "Python 3",
   "language": "python",
   "name": "python3"
  },
  "language_info": {
   "codemirror_mode": {
    "name": "ipython",
    "version": 3
   },
   "file_extension": ".py",
   "mimetype": "text/x-python",
   "name": "python",
   "nbconvert_exporter": "python",
   "pygments_lexer": "ipython3",
   "version": "3.13.3"
  }
 },
 "nbformat": 4,
 "nbformat_minor": 5
}
